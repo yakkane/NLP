{
 "cells": [
  {
   "cell_type": "code",
   "execution_count": 84,
   "id": "8c175988",
   "metadata": {},
   "outputs": [],
   "source": [
    "import os\n",
    "import nltk\n",
    "import nltk.corpus"
   ]
  },
  {
   "cell_type": "code",
   "execution_count": 85,
   "id": "225b4806",
   "metadata": {},
   "outputs": [],
   "source": [
    "###tokenizetion\n",
    "\n",
    "engtxt =\"\"\"Perhaps one of the most significant advances made by Arabic mathematics began at this time with the work of al-Khwarizmi, namelythe beginnings of algebra. It is important to understand just how significant this new idea was. It was a revolutionary move away from the Greek concept of mathematics which was essentially geometry. Algebra was a unifying theory which allowed rational numbers, irrational numbers, geometrical magnitudes, etc., to all be treated as \\\"algebraic objects\\\". It gave mathematics a whole new development path so much broader in concept to that which had existed before, and provided a vehicle for future development of the subject. Another important aspect of the introduction of algebraic ideas was that it allowed mathematics to be applied to itself in a way which had not happened before.\"\"\"\n",
    "\n",
    "arabtxt=\"\"\"ربما كانت أحد أهم التطورات التي قامت بها الرياضيات العربية التي بدأت في هذا الوقت بعمل الخوارزمي وهي بدايات الجبر, ومن المهم فهم كيف كانت هذه الفكرة الجديدة مهمة, فقد كانت خطوة نورية بعيدا عن المفهوم اليوناني للرياضيات التي هي في جوهرها هندسة, الجبر کان نظرية موحدة تتيح الأعداد الكسرية والأعداد اللا كسرية, والمقادير الهندسية وغيرها, أن تتعامل على أنها أجسام جبرية, وأعطت الرياضيات ككل مسارا جديدا للتطور بمفهوم أوسع بكثير من الذي كان موجودا من قبل, وقم وسيلة للتنمية في هذا الموضوع مستقبلا. وجانب آخر مهم لإدخال أفكار الجبر وهو أنه سمح بتطبيق الرياضيات على نفسها بطريقة لم تحدث من قبل\"\"\""
   ]
  },
  {
   "cell_type": "code",
   "execution_count": 86,
   "id": "00c564c2",
   "metadata": {},
   "outputs": [],
   "source": [
    "from nltk.tokenize import word_tokenize"
   ]
  },
  {
   "cell_type": "code",
   "execution_count": 87,
   "id": "4a5af1eb",
   "metadata": {},
   "outputs": [
    {
     "name": "stderr",
     "output_type": "stream",
     "text": [
      "[nltk_data] Downloading package punkt to /home/yakkane/nltk_data...\n",
      "[nltk_data]   Package punkt is already up-to-date!\n"
     ]
    },
    {
     "data": {
      "text/plain": [
       "True"
      ]
     },
     "execution_count": 87,
     "metadata": {},
     "output_type": "execute_result"
    }
   ],
   "source": [
    "nltk.download('punkt')"
   ]
  },
  {
   "cell_type": "code",
   "execution_count": 88,
   "id": "aec4377e",
   "metadata": {},
   "outputs": [
    {
     "data": {
      "text/plain": [
       "['Perhaps',\n",
       " 'one',\n",
       " 'of',\n",
       " 'the',\n",
       " 'most',\n",
       " 'significant',\n",
       " 'advances',\n",
       " 'made',\n",
       " 'by',\n",
       " 'Arabic',\n",
       " 'mathematics',\n",
       " 'began',\n",
       " 'at',\n",
       " 'this',\n",
       " 'time',\n",
       " 'with',\n",
       " 'the',\n",
       " 'work',\n",
       " 'of',\n",
       " 'al-Khwarizmi',\n",
       " ',',\n",
       " 'namelythe',\n",
       " 'beginnings',\n",
       " 'of',\n",
       " 'algebra',\n",
       " '.',\n",
       " 'It',\n",
       " 'is',\n",
       " 'important',\n",
       " 'to',\n",
       " 'understand',\n",
       " 'just',\n",
       " 'how',\n",
       " 'significant',\n",
       " 'this',\n",
       " 'new',\n",
       " 'idea',\n",
       " 'was',\n",
       " '.',\n",
       " 'It',\n",
       " 'was',\n",
       " 'a',\n",
       " 'revolutionary',\n",
       " 'move',\n",
       " 'away',\n",
       " 'from',\n",
       " 'the',\n",
       " 'Greek',\n",
       " 'concept',\n",
       " 'of',\n",
       " 'mathematics',\n",
       " 'which',\n",
       " 'was',\n",
       " 'essentially',\n",
       " 'geometry',\n",
       " '.',\n",
       " 'Algebra',\n",
       " 'was',\n",
       " 'a',\n",
       " 'unifying',\n",
       " 'theory',\n",
       " 'which',\n",
       " 'allowed',\n",
       " 'rational',\n",
       " 'numbers',\n",
       " ',',\n",
       " 'irrational',\n",
       " 'numbers',\n",
       " ',',\n",
       " 'geometrical',\n",
       " 'magnitudes',\n",
       " ',',\n",
       " 'etc.',\n",
       " ',',\n",
       " 'to',\n",
       " 'all',\n",
       " 'be',\n",
       " 'treated',\n",
       " 'as',\n",
       " '``',\n",
       " 'algebraic',\n",
       " 'objects',\n",
       " \"''\",\n",
       " '.',\n",
       " 'It',\n",
       " 'gave',\n",
       " 'mathematics',\n",
       " 'a',\n",
       " 'whole',\n",
       " 'new',\n",
       " 'development',\n",
       " 'path',\n",
       " 'so',\n",
       " 'much',\n",
       " 'broader',\n",
       " 'in',\n",
       " 'concept',\n",
       " 'to',\n",
       " 'that',\n",
       " 'which',\n",
       " 'had',\n",
       " 'existed',\n",
       " 'before',\n",
       " ',',\n",
       " 'and',\n",
       " 'provided',\n",
       " 'a',\n",
       " 'vehicle',\n",
       " 'for',\n",
       " 'future',\n",
       " 'development',\n",
       " 'of',\n",
       " 'the',\n",
       " 'subject',\n",
       " '.',\n",
       " 'Another',\n",
       " 'important',\n",
       " 'aspect',\n",
       " 'of',\n",
       " 'the',\n",
       " 'introduction',\n",
       " 'of',\n",
       " 'algebraic',\n",
       " 'ideas',\n",
       " 'was',\n",
       " 'that',\n",
       " 'it',\n",
       " 'allowed',\n",
       " 'mathematics',\n",
       " 'to',\n",
       " 'be',\n",
       " 'applied',\n",
       " 'to',\n",
       " 'itself',\n",
       " 'in',\n",
       " 'a',\n",
       " 'way',\n",
       " 'which',\n",
       " 'had',\n",
       " 'not',\n",
       " 'happened',\n",
       " 'before',\n",
       " '.']"
      ]
     },
     "execution_count": 88,
     "metadata": {},
     "output_type": "execute_result"
    }
   ],
   "source": [
    "Eng_tokens = word_tokenize(engtxt)\n",
    "Eng_tokens"
   ]
  },
  {
   "cell_type": "code",
   "execution_count": 89,
   "id": "a5eae722",
   "metadata": {},
   "outputs": [
    {
     "data": {
      "text/plain": [
       "['ربما',\n",
       " 'كانت',\n",
       " 'أحد',\n",
       " 'أهم',\n",
       " 'التطورات',\n",
       " 'التي',\n",
       " 'قامت',\n",
       " 'بها',\n",
       " 'الرياضيات',\n",
       " 'العربية',\n",
       " 'التي',\n",
       " 'بدأت',\n",
       " 'في',\n",
       " 'هذا',\n",
       " 'الوقت',\n",
       " 'بعمل',\n",
       " 'الخوارزمي',\n",
       " 'وهي',\n",
       " 'بدايات',\n",
       " 'الجبر',\n",
       " ',',\n",
       " 'ومن',\n",
       " 'المهم',\n",
       " 'فهم',\n",
       " 'كيف',\n",
       " 'كانت',\n",
       " 'هذه',\n",
       " 'الفكرة',\n",
       " 'الجديدة',\n",
       " 'مهمة',\n",
       " ',',\n",
       " 'فقد',\n",
       " 'كانت',\n",
       " 'خطوة',\n",
       " 'نورية',\n",
       " 'بعيدا',\n",
       " 'عن',\n",
       " 'المفهوم',\n",
       " 'اليوناني',\n",
       " 'للرياضيات',\n",
       " 'التي',\n",
       " 'هي',\n",
       " 'في',\n",
       " 'جوهرها',\n",
       " 'هندسة',\n",
       " ',',\n",
       " 'الجبر',\n",
       " 'کان',\n",
       " 'نظرية',\n",
       " 'موحدة',\n",
       " 'تتيح',\n",
       " 'الأعداد',\n",
       " 'الكسرية',\n",
       " 'والأعداد',\n",
       " 'اللا',\n",
       " 'كسرية',\n",
       " ',',\n",
       " 'والمقادير',\n",
       " 'الهندسية',\n",
       " 'وغيرها',\n",
       " ',',\n",
       " 'أن',\n",
       " 'تتعامل',\n",
       " 'على',\n",
       " 'أنها',\n",
       " 'أجسام',\n",
       " 'جبرية',\n",
       " ',',\n",
       " 'وأعطت',\n",
       " 'الرياضيات',\n",
       " 'ككل',\n",
       " 'مسارا',\n",
       " 'جديدا',\n",
       " 'للتطور',\n",
       " 'بمفهوم',\n",
       " 'أوسع',\n",
       " 'بكثير',\n",
       " 'من',\n",
       " 'الذي',\n",
       " 'كان',\n",
       " 'موجودا',\n",
       " 'من',\n",
       " 'قبل',\n",
       " ',',\n",
       " 'وقم',\n",
       " 'وسيلة',\n",
       " 'للتنمية',\n",
       " 'في',\n",
       " 'هذا',\n",
       " 'الموضوع',\n",
       " 'مستقبلا',\n",
       " '.',\n",
       " 'وجانب',\n",
       " 'آخر',\n",
       " 'مهم',\n",
       " 'لإدخال',\n",
       " 'أفكار',\n",
       " 'الجبر',\n",
       " 'وهو',\n",
       " 'أنه',\n",
       " 'سمح',\n",
       " 'بتطبيق',\n",
       " 'الرياضيات',\n",
       " 'على',\n",
       " 'نفسها',\n",
       " 'بطريقة',\n",
       " 'لم',\n",
       " 'تحدث',\n",
       " 'من',\n",
       " 'قبل']"
      ]
     },
     "execution_count": 89,
     "metadata": {},
     "output_type": "execute_result"
    }
   ],
   "source": [
    "Arab_tokens = word_tokenize(arabtxt)\n",
    "Arab_tokens"
   ]
  },
  {
   "cell_type": "code",
   "execution_count": 90,
   "id": "b84aae78",
   "metadata": {},
   "outputs": [
    {
     "data": {
      "text/plain": [
       "143"
      ]
     },
     "execution_count": 90,
     "metadata": {},
     "output_type": "execute_result"
    }
   ],
   "source": [
    "len(Eng_tokens)"
   ]
  },
  {
   "cell_type": "code",
   "execution_count": 91,
   "id": "6f8fd22c",
   "metadata": {},
   "outputs": [],
   "source": [
    "### words_Frequency\n",
    "from nltk.probability import FreqDist\n",
    "fdict = FreqDist()"
   ]
  },
  {
   "cell_type": "code",
   "execution_count": 92,
   "id": "6b8e1a88",
   "metadata": {},
   "outputs": [
    {
     "data": {
      "text/plain": [
       "FreqDist({'of': 7, ',': 6, '.': 6, 'the': 5, 'to': 5, 'was': 5, 'a': 5, 'mathematics': 4, 'it': 4, 'which': 4, ...})"
      ]
     },
     "execution_count": 92,
     "metadata": {},
     "output_type": "execute_result"
    }
   ],
   "source": [
    "for word in Eng_tokens:\n",
    "    fdict[word.lower()]+=1\n",
    "fdict"
   ]
  },
  {
   "cell_type": "code",
   "execution_count": 93,
   "id": "00c7d5fe",
   "metadata": {},
   "outputs": [
    {
     "name": "stderr",
     "output_type": "stream",
     "text": [
      "[nltk_data] Downloading package stopwords to\n",
      "[nltk_data]     /home/yakkane/nltk_data...\n",
      "[nltk_data]   Package stopwords is already up-to-date!\n"
     ]
    }
   ],
   "source": [
    "nltk.download(\"stopwords\")\n",
    "from nltk.corpus import stopwords"
   ]
  },
  {
   "cell_type": "code",
   "execution_count": 94,
   "id": "b9f443ad",
   "metadata": {},
   "outputs": [],
   "source": [
    "Engwords = set(stopwords.words(\"english\"))\n",
    "Arwords = set(stopwords.words(\"arabic\"))"
   ]
  },
  {
   "cell_type": "code",
   "execution_count": 95,
   "id": "6e265a13",
   "metadata": {},
   "outputs": [
    {
     "data": {
      "text/plain": [
       "['Perhaps',\n",
       " 'one',\n",
       " 'significant',\n",
       " 'advances',\n",
       " 'made',\n",
       " 'Arabic',\n",
       " 'mathematics',\n",
       " 'began',\n",
       " 'time',\n",
       " 'work',\n",
       " 'al-Khwarizmi',\n",
       " ',',\n",
       " 'namelythe',\n",
       " 'beginnings',\n",
       " 'algebra',\n",
       " '.',\n",
       " 'important',\n",
       " 'understand',\n",
       " 'significant',\n",
       " 'new',\n",
       " 'idea',\n",
       " '.',\n",
       " 'revolutionary',\n",
       " 'move',\n",
       " 'away',\n",
       " 'Greek',\n",
       " 'concept',\n",
       " 'mathematics',\n",
       " 'essentially',\n",
       " 'geometry',\n",
       " '.',\n",
       " 'Algebra',\n",
       " 'unifying',\n",
       " 'theory',\n",
       " 'allowed',\n",
       " 'rational',\n",
       " 'numbers',\n",
       " ',',\n",
       " 'irrational',\n",
       " 'numbers',\n",
       " ',',\n",
       " 'geometrical',\n",
       " 'magnitudes',\n",
       " ',',\n",
       " 'etc.',\n",
       " ',',\n",
       " 'treated',\n",
       " '``',\n",
       " 'algebraic',\n",
       " 'objects',\n",
       " \"''\",\n",
       " '.',\n",
       " 'gave',\n",
       " 'mathematics',\n",
       " 'whole',\n",
       " 'new',\n",
       " 'development',\n",
       " 'path',\n",
       " 'much',\n",
       " 'broader',\n",
       " 'concept',\n",
       " 'existed',\n",
       " ',',\n",
       " 'provided',\n",
       " 'vehicle',\n",
       " 'future',\n",
       " 'development',\n",
       " 'subject',\n",
       " '.',\n",
       " 'Another',\n",
       " 'important',\n",
       " 'aspect',\n",
       " 'introduction',\n",
       " 'algebraic',\n",
       " 'ideas',\n",
       " 'allowed',\n",
       " 'mathematics',\n",
       " 'applied',\n",
       " 'way',\n",
       " 'happened',\n",
       " '.']"
      ]
     },
     "execution_count": 95,
     "metadata": {},
     "output_type": "execute_result"
    }
   ],
   "source": [
    "clair_txt = []\n",
    "for word in Eng_tokens:\n",
    "    if word.casefold() not in Engwords:\n",
    "        clair_txt.append(word)\n",
    "clair_txt\n"
   ]
  },
  {
   "cell_type": "code",
   "execution_count": 96,
   "id": "513f683f",
   "metadata": {},
   "outputs": [],
   "source": [
    "###paragraph tokenizetionf\n",
    "from nltk.tokenize import blankline_tokenize\n",
    "eng_blank = blankline_tokenize(engtxt)"
   ]
  },
  {
   "cell_type": "code",
   "execution_count": 97,
   "id": "a954631d",
   "metadata": {},
   "outputs": [
    {
     "data": {
      "text/plain": [
       "['Perhaps one of the most significant advances made by Arabic mathematics began at this time with the work of al-Khwarizmi, namelythe beginnings of algebra. It is important to understand just how significant this new idea was. It was a revolutionary move away from the Greek concept of mathematics which was essentially geometry. Algebra was a unifying theory which allowed rational numbers, irrational numbers, geometrical magnitudes, etc., to all be treated as \"algebraic objects\". It gave mathematics a whole new development path so much broader in concept to that which had existed before, and provided a vehicle for future development of the subject. Another important aspect of the introduction of algebraic ideas was that it allowed mathematics to be applied to itself in a way which had not happened before.']"
      ]
     },
     "execution_count": 97,
     "metadata": {},
     "output_type": "execute_result"
    }
   ],
   "source": [
    "eng_blank"
   ]
  },
  {
   "cell_type": "code",
   "execution_count": 98,
   "id": "6f7ceeab",
   "metadata": {},
   "outputs": [
    {
     "data": {
      "text/plain": [
       "1"
      ]
     },
     "execution_count": 98,
     "metadata": {},
     "output_type": "execute_result"
    }
   ],
   "source": [
    "len(eng_blank)"
   ]
  },
  {
   "cell_type": "code",
   "execution_count": 99,
   "id": "c9cde63e",
   "metadata": {},
   "outputs": [],
   "source": [
    "from nltk.util import bigrams, trigrams, ngrams"
   ]
  },
  {
   "cell_type": "code",
   "execution_count": 100,
   "id": "41cf262f",
   "metadata": {},
   "outputs": [
    {
     "data": {
      "text/plain": [
       "[('Perhaps', 'one'),\n",
       " ('one', 'of'),\n",
       " ('of', 'the'),\n",
       " ('the', 'most'),\n",
       " ('most', 'significant'),\n",
       " ('significant', 'advances'),\n",
       " ('advances', 'made'),\n",
       " ('made', 'by'),\n",
       " ('by', 'Arabic'),\n",
       " ('Arabic', 'mathematics'),\n",
       " ('mathematics', 'began'),\n",
       " ('began', 'at'),\n",
       " ('at', 'this'),\n",
       " ('this', 'time'),\n",
       " ('time', 'with'),\n",
       " ('with', 'the'),\n",
       " ('the', 'work'),\n",
       " ('work', 'of'),\n",
       " ('of', 'al-Khwarizmi'),\n",
       " ('al-Khwarizmi', ','),\n",
       " (',', 'namelythe'),\n",
       " ('namelythe', 'beginnings'),\n",
       " ('beginnings', 'of'),\n",
       " ('of', 'algebra'),\n",
       " ('algebra', '.'),\n",
       " ('.', 'It'),\n",
       " ('It', 'is'),\n",
       " ('is', 'important'),\n",
       " ('important', 'to'),\n",
       " ('to', 'understand'),\n",
       " ('understand', 'just'),\n",
       " ('just', 'how'),\n",
       " ('how', 'significant'),\n",
       " ('significant', 'this'),\n",
       " ('this', 'new'),\n",
       " ('new', 'idea'),\n",
       " ('idea', 'was'),\n",
       " ('was', '.'),\n",
       " ('.', 'It'),\n",
       " ('It', 'was'),\n",
       " ('was', 'a'),\n",
       " ('a', 'revolutionary'),\n",
       " ('revolutionary', 'move'),\n",
       " ('move', 'away'),\n",
       " ('away', 'from'),\n",
       " ('from', 'the'),\n",
       " ('the', 'Greek'),\n",
       " ('Greek', 'concept'),\n",
       " ('concept', 'of'),\n",
       " ('of', 'mathematics'),\n",
       " ('mathematics', 'which'),\n",
       " ('which', 'was'),\n",
       " ('was', 'essentially'),\n",
       " ('essentially', 'geometry'),\n",
       " ('geometry', '.'),\n",
       " ('.', 'Algebra'),\n",
       " ('Algebra', 'was'),\n",
       " ('was', 'a'),\n",
       " ('a', 'unifying'),\n",
       " ('unifying', 'theory'),\n",
       " ('theory', 'which'),\n",
       " ('which', 'allowed'),\n",
       " ('allowed', 'rational'),\n",
       " ('rational', 'numbers'),\n",
       " ('numbers', ','),\n",
       " (',', 'irrational'),\n",
       " ('irrational', 'numbers'),\n",
       " ('numbers', ','),\n",
       " (',', 'geometrical'),\n",
       " ('geometrical', 'magnitudes'),\n",
       " ('magnitudes', ','),\n",
       " (',', 'etc.'),\n",
       " ('etc.', ','),\n",
       " (',', 'to'),\n",
       " ('to', 'all'),\n",
       " ('all', 'be'),\n",
       " ('be', 'treated'),\n",
       " ('treated', 'as'),\n",
       " ('as', '``'),\n",
       " ('``', 'algebraic'),\n",
       " ('algebraic', 'objects'),\n",
       " ('objects', \"''\"),\n",
       " (\"''\", '.'),\n",
       " ('.', 'It'),\n",
       " ('It', 'gave'),\n",
       " ('gave', 'mathematics'),\n",
       " ('mathematics', 'a'),\n",
       " ('a', 'whole'),\n",
       " ('whole', 'new'),\n",
       " ('new', 'development'),\n",
       " ('development', 'path'),\n",
       " ('path', 'so'),\n",
       " ('so', 'much'),\n",
       " ('much', 'broader'),\n",
       " ('broader', 'in'),\n",
       " ('in', 'concept'),\n",
       " ('concept', 'to'),\n",
       " ('to', 'that'),\n",
       " ('that', 'which'),\n",
       " ('which', 'had'),\n",
       " ('had', 'existed'),\n",
       " ('existed', 'before'),\n",
       " ('before', ','),\n",
       " (',', 'and'),\n",
       " ('and', 'provided'),\n",
       " ('provided', 'a'),\n",
       " ('a', 'vehicle'),\n",
       " ('vehicle', 'for'),\n",
       " ('for', 'future'),\n",
       " ('future', 'development'),\n",
       " ('development', 'of'),\n",
       " ('of', 'the'),\n",
       " ('the', 'subject'),\n",
       " ('subject', '.'),\n",
       " ('.', 'Another'),\n",
       " ('Another', 'important'),\n",
       " ('important', 'aspect'),\n",
       " ('aspect', 'of'),\n",
       " ('of', 'the'),\n",
       " ('the', 'introduction'),\n",
       " ('introduction', 'of'),\n",
       " ('of', 'algebraic'),\n",
       " ('algebraic', 'ideas'),\n",
       " ('ideas', 'was'),\n",
       " ('was', 'that'),\n",
       " ('that', 'it'),\n",
       " ('it', 'allowed'),\n",
       " ('allowed', 'mathematics'),\n",
       " ('mathematics', 'to'),\n",
       " ('to', 'be'),\n",
       " ('be', 'applied'),\n",
       " ('applied', 'to'),\n",
       " ('to', 'itself'),\n",
       " ('itself', 'in'),\n",
       " ('in', 'a'),\n",
       " ('a', 'way'),\n",
       " ('way', 'which'),\n",
       " ('which', 'had'),\n",
       " ('had', 'not'),\n",
       " ('not', 'happened'),\n",
       " ('happened', 'before'),\n",
       " ('before', '.')]"
      ]
     },
     "execution_count": 100,
     "metadata": {},
     "output_type": "execute_result"
    }
   ],
   "source": [
    "quotes_bigrams = list(nltk.bigrams(Eng_tokens))\n",
    "quotes_bigrams"
   ]
  },
  {
   "cell_type": "code",
   "execution_count": 101,
   "id": "f6730f05",
   "metadata": {},
   "outputs": [],
   "source": [
    "#####################STEMMING########################\n"
   ]
  },
  {
   "cell_type": "code",
   "execution_count": 102,
   "id": "9d7ee30a",
   "metadata": {},
   "outputs": [],
   "source": [
    "from nltk.stem import PorterStemmer\n",
    "pst = PorterStemmer()"
   ]
  },
  {
   "cell_type": "code",
   "execution_count": 103,
   "id": "7affa3d5",
   "metadata": {},
   "outputs": [],
   "source": [
    "d = dict()\n",
    "for w in Eng_tokens:\n",
    "    if pst.stem(w) in d:\n",
    "        d[pst.stem(w)]+=1\n",
    "    else:\n",
    "        d[pst.stem(w)] = 1\n",
    "        "
   ]
  },
  {
   "cell_type": "code",
   "execution_count": 104,
   "id": "d67ac9ff",
   "metadata": {},
   "outputs": [
    {
     "name": "stdout",
     "output_type": "stream",
     "text": [
      "{'perhap': 1, 'one': 1, 'of': 7, 'the': 5, 'most': 1, 'signific': 2, 'advanc': 1, 'made': 1, 'by': 1, 'arab': 1, 'mathemat': 4, 'began': 1, 'at': 1, 'thi': 2, 'time': 1, 'with': 1, 'work': 1, 'al-khwarizmi': 1, ',': 6, 'namelyth': 1, 'begin': 1, 'algebra': 4, '.': 6, 'it': 4, 'is': 1, 'import': 2, 'to': 5, 'understand': 1, 'just': 1, 'how': 1, 'new': 2, 'idea': 2, 'wa': 5, 'a': 5, 'revolutionari': 1, 'move': 1, 'away': 1, 'from': 1, 'greek': 1, 'concept': 2, 'which': 4, 'essenti': 1, 'geometri': 1, 'unifi': 1, 'theori': 1, 'allow': 2, 'ration': 1, 'number': 2, 'irrat': 1, 'geometr': 1, 'magnitud': 1, 'etc.': 1, 'all': 1, 'be': 2, 'treat': 1, 'as': 1, '``': 1, 'object': 1, \"''\": 1, 'gave': 1, 'whole': 1, 'develop': 2, 'path': 1, 'so': 1, 'much': 1, 'broader': 1, 'in': 2, 'that': 2, 'had': 2, 'exist': 1, 'befor': 2, 'and': 1, 'provid': 1, 'vehicl': 1, 'for': 1, 'futur': 1, 'subject': 1, 'anoth': 1, 'aspect': 1, 'introduct': 1, 'appli': 1, 'itself': 1, 'way': 1, 'not': 1, 'happen': 1}\n"
     ]
    }
   ],
   "source": [
    "print(d)"
   ]
  },
  {
   "cell_type": "code",
   "execution_count": 110,
   "id": "ad9dd40a",
   "metadata": {},
   "outputs": [
    {
     "name": "stderr",
     "output_type": "stream",
     "text": [
      "[nltk_data] Downloading package wordnet to /home/yakkane/nltk_data...\n",
      "[nltk_data]   Unzipping corpora/wordnet.zip.\n"
     ]
    },
    {
     "data": {
      "text/plain": [
       "True"
      ]
     },
     "execution_count": 110,
     "metadata": {},
     "output_type": "execute_result"
    }
   ],
   "source": [
    "##################lemmatization#########################\n",
    "nltk.download('wordnet')"
   ]
  },
  {
   "cell_type": "code",
   "execution_count": 111,
   "id": "b6fb4ed6",
   "metadata": {},
   "outputs": [],
   "source": [
    "from nltk.stem import WordNetLemmatizer\n",
    "from nltk.stem import wordnet"
   ]
  },
  {
   "cell_type": "code",
   "execution_count": 112,
   "id": "95ebe239",
   "metadata": {},
   "outputs": [],
   "source": [
    "lemmatizer = WordNetLemmatizer()"
   ]
  },
  {
   "cell_type": "code",
   "execution_count": 113,
   "id": "b244a9ee",
   "metadata": {},
   "outputs": [
    {
     "data": {
      "text/plain": [
       "<WordNetLemmatizer>"
      ]
     },
     "execution_count": 113,
     "metadata": {},
     "output_type": "execute_result"
    }
   ],
   "source": [
    "lemmatizer"
   ]
  },
  {
   "cell_type": "code",
   "execution_count": 115,
   "id": "a55ba0bf",
   "metadata": {},
   "outputs": [
    {
     "name": "stdout",
     "output_type": "stream",
     "text": [
      "Perhaps  :  Perhaps\n",
      "one  :  one\n",
      "of  :  of\n",
      "the  :  the\n",
      "most  :  most\n",
      "significant  :  significant\n",
      "advances  :  advance\n",
      "made  :  made\n",
      "by  :  by\n",
      "Arabic  :  Arabic\n",
      "mathematics  :  mathematics\n",
      "began  :  began\n",
      "at  :  at\n",
      "this  :  this\n",
      "time  :  time\n",
      "with  :  with\n",
      "the  :  the\n",
      "work  :  work\n",
      "of  :  of\n",
      "al-Khwarizmi  :  al-Khwarizmi\n",
      ",  :  ,\n",
      "namelythe  :  namelythe\n",
      "beginnings  :  beginning\n",
      "of  :  of\n",
      "algebra  :  algebra\n",
      ".  :  .\n",
      "It  :  It\n",
      "is  :  is\n",
      "important  :  important\n",
      "to  :  to\n",
      "understand  :  understand\n",
      "just  :  just\n",
      "how  :  how\n",
      "significant  :  significant\n",
      "this  :  this\n",
      "new  :  new\n",
      "idea  :  idea\n",
      "was  :  wa\n",
      ".  :  .\n",
      "It  :  It\n",
      "was  :  wa\n",
      "a  :  a\n",
      "revolutionary  :  revolutionary\n",
      "move  :  move\n",
      "away  :  away\n",
      "from  :  from\n",
      "the  :  the\n",
      "Greek  :  Greek\n",
      "concept  :  concept\n",
      "of  :  of\n",
      "mathematics  :  mathematics\n",
      "which  :  which\n",
      "was  :  wa\n",
      "essentially  :  essentially\n",
      "geometry  :  geometry\n",
      ".  :  .\n",
      "Algebra  :  Algebra\n",
      "was  :  wa\n",
      "a  :  a\n",
      "unifying  :  unifying\n",
      "theory  :  theory\n",
      "which  :  which\n",
      "allowed  :  allowed\n",
      "rational  :  rational\n",
      "numbers  :  number\n",
      ",  :  ,\n",
      "irrational  :  irrational\n",
      "numbers  :  number\n",
      ",  :  ,\n",
      "geometrical  :  geometrical\n",
      "magnitudes  :  magnitude\n",
      ",  :  ,\n",
      "etc.  :  etc.\n",
      ",  :  ,\n",
      "to  :  to\n",
      "all  :  all\n",
      "be  :  be\n",
      "treated  :  treated\n",
      "as  :  a\n",
      "``  :  ``\n",
      "algebraic  :  algebraic\n",
      "objects  :  object\n",
      "''  :  ''\n",
      ".  :  .\n",
      "It  :  It\n",
      "gave  :  gave\n",
      "mathematics  :  mathematics\n",
      "a  :  a\n",
      "whole  :  whole\n",
      "new  :  new\n",
      "development  :  development\n",
      "path  :  path\n",
      "so  :  so\n",
      "much  :  much\n",
      "broader  :  broader\n",
      "in  :  in\n",
      "concept  :  concept\n",
      "to  :  to\n",
      "that  :  that\n",
      "which  :  which\n",
      "had  :  had\n",
      "existed  :  existed\n",
      "before  :  before\n",
      ",  :  ,\n",
      "and  :  and\n",
      "provided  :  provided\n",
      "a  :  a\n",
      "vehicle  :  vehicle\n",
      "for  :  for\n",
      "future  :  future\n",
      "development  :  development\n",
      "of  :  of\n",
      "the  :  the\n",
      "subject  :  subject\n",
      ".  :  .\n",
      "Another  :  Another\n",
      "important  :  important\n",
      "aspect  :  aspect\n",
      "of  :  of\n",
      "the  :  the\n",
      "introduction  :  introduction\n",
      "of  :  of\n",
      "algebraic  :  algebraic\n",
      "ideas  :  idea\n",
      "was  :  wa\n",
      "that  :  that\n",
      "it  :  it\n",
      "allowed  :  allowed\n",
      "mathematics  :  mathematics\n",
      "to  :  to\n",
      "be  :  be\n",
      "applied  :  applied\n",
      "to  :  to\n",
      "itself  :  itself\n",
      "in  :  in\n",
      "a  :  a\n",
      "way  :  way\n",
      "which  :  which\n",
      "had  :  had\n",
      "not  :  not\n",
      "happened  :  happened\n",
      "before  :  before\n",
      ".  :  .\n"
     ]
    }
   ],
   "source": [
    "for w in Eng_tokens:\n",
    "    print(w,\" : \",lemmatizer.lemmatize(w))"
   ]
  },
  {
   "cell_type": "code",
   "execution_count": 117,
   "id": "651a151a",
   "metadata": {},
   "outputs": [
    {
     "name": "stderr",
     "output_type": "stream",
     "text": [
      "[nltk_data] Downloading package averaged_perceptron_tagger to\n",
      "[nltk_data]     /home/yakkane/nltk_data...\n",
      "[nltk_data]   Unzipping taggers/averaged_perceptron_tagger.zip.\n"
     ]
    },
    {
     "data": {
      "text/plain": [
       "True"
      ]
     },
     "execution_count": 117,
     "metadata": {},
     "output_type": "execute_result"
    }
   ],
   "source": [
    "##################################### POS tagging ########################################################################\n",
    "nltk.download('averaged_perceptron_tagger')"
   ]
  },
  {
   "cell_type": "code",
   "execution_count": 118,
   "id": "3e0fc753",
   "metadata": {},
   "outputs": [
    {
     "name": "stdout",
     "output_type": "stream",
     "text": [
      "[('Perhaps', 'RB')]\n",
      "[('one', 'CD')]\n",
      "[('of', 'IN')]\n",
      "[('the', 'DT')]\n",
      "[('most', 'JJS')]\n",
      "[('significant', 'JJ')]\n",
      "[('advances', 'NNS')]\n",
      "[('made', 'VBN')]\n",
      "[('by', 'IN')]\n",
      "[('Arabic', 'NNP')]\n",
      "[('mathematics', 'NNS')]\n",
      "[('began', 'VBD')]\n",
      "[('at', 'IN')]\n",
      "[('this', 'DT')]\n",
      "[('time', 'NN')]\n",
      "[('with', 'IN')]\n",
      "[('the', 'DT')]\n",
      "[('work', 'NN')]\n",
      "[('of', 'IN')]\n",
      "[('al-Khwarizmi', 'NN')]\n",
      "[(',', ',')]\n",
      "[('namelythe', 'NN')]\n",
      "[('beginnings', 'NNS')]\n",
      "[('of', 'IN')]\n",
      "[('algebra', 'NN')]\n",
      "[('.', '.')]\n",
      "[('It', 'PRP')]\n",
      "[('is', 'VBZ')]\n",
      "[('important', 'JJ')]\n",
      "[('to', 'TO')]\n",
      "[('understand', 'NN')]\n",
      "[('just', 'RB')]\n",
      "[('how', 'WRB')]\n",
      "[('significant', 'JJ')]\n",
      "[('this', 'DT')]\n",
      "[('new', 'JJ')]\n",
      "[('idea', 'NN')]\n",
      "[('was', 'VBD')]\n",
      "[('.', '.')]\n",
      "[('It', 'PRP')]\n",
      "[('was', 'VBD')]\n",
      "[('a', 'DT')]\n",
      "[('revolutionary', 'JJ')]\n",
      "[('move', 'NN')]\n",
      "[('away', 'RB')]\n",
      "[('from', 'IN')]\n",
      "[('the', 'DT')]\n",
      "[('Greek', 'JJ')]\n",
      "[('concept', 'NN')]\n",
      "[('of', 'IN')]\n",
      "[('mathematics', 'NNS')]\n",
      "[('which', 'WDT')]\n",
      "[('was', 'VBD')]\n",
      "[('essentially', 'RB')]\n",
      "[('geometry', 'NN')]\n",
      "[('.', '.')]\n",
      "[('Algebra', 'NN')]\n",
      "[('was', 'VBD')]\n",
      "[('a', 'DT')]\n",
      "[('unifying', 'VBG')]\n",
      "[('theory', 'NN')]\n",
      "[('which', 'WDT')]\n",
      "[('allowed', 'VBN')]\n",
      "[('rational', 'JJ')]\n",
      "[('numbers', 'NNS')]\n",
      "[(',', ',')]\n",
      "[('irrational', 'JJ')]\n",
      "[('numbers', 'NNS')]\n",
      "[(',', ',')]\n",
      "[('geometrical', 'JJ')]\n",
      "[('magnitudes', 'NNS')]\n",
      "[(',', ',')]\n",
      "[('etc.', 'NN')]\n",
      "[(',', ',')]\n",
      "[('to', 'TO')]\n",
      "[('all', 'DT')]\n",
      "[('be', 'VB')]\n",
      "[('treated', 'VBN')]\n",
      "[('as', 'IN')]\n",
      "[('``', '``')]\n",
      "[('algebraic', 'NN')]\n",
      "[('objects', 'NNS')]\n",
      "[(\"''\", \"''\")]\n",
      "[('.', '.')]\n",
      "[('It', 'PRP')]\n",
      "[('gave', 'VBD')]\n",
      "[('mathematics', 'NNS')]\n",
      "[('a', 'DT')]\n",
      "[('whole', 'JJ')]\n",
      "[('new', 'JJ')]\n",
      "[('development', 'NN')]\n",
      "[('path', 'NN')]\n",
      "[('so', 'RB')]\n",
      "[('much', 'JJ')]\n",
      "[('broader', 'NN')]\n",
      "[('in', 'IN')]\n",
      "[('concept', 'NN')]\n",
      "[('to', 'TO')]\n",
      "[('that', 'IN')]\n",
      "[('which', 'WDT')]\n",
      "[('had', 'VBD')]\n",
      "[('existed', 'VBN')]\n",
      "[('before', 'IN')]\n",
      "[(',', ',')]\n",
      "[('and', 'CC')]\n",
      "[('provided', 'VBN')]\n",
      "[('a', 'DT')]\n",
      "[('vehicle', 'NN')]\n",
      "[('for', 'IN')]\n",
      "[('future', 'NN')]\n",
      "[('development', 'NN')]\n",
      "[('of', 'IN')]\n",
      "[('the', 'DT')]\n",
      "[('subject', 'NN')]\n",
      "[('.', '.')]\n",
      "[('Another', 'DT')]\n",
      "[('important', 'JJ')]\n",
      "[('aspect', 'NN')]\n",
      "[('of', 'IN')]\n",
      "[('the', 'DT')]\n",
      "[('introduction', 'NN')]\n",
      "[('of', 'IN')]\n",
      "[('algebraic', 'NN')]\n",
      "[('ideas', 'NNS')]\n",
      "[('was', 'VBD')]\n",
      "[('that', 'IN')]\n",
      "[('it', 'PRP')]\n",
      "[('allowed', 'VBN')]\n",
      "[('mathematics', 'NNS')]\n",
      "[('to', 'TO')]\n",
      "[('be', 'VB')]\n",
      "[('applied', 'VBN')]\n",
      "[('to', 'TO')]\n",
      "[('itself', 'PRP')]\n",
      "[('in', 'IN')]\n",
      "[('a', 'DT')]\n",
      "[('way', 'NN')]\n",
      "[('which', 'WDT')]\n",
      "[('had', 'VBD')]\n",
      "[('not', 'RB')]\n",
      "[('happened', 'VBD')]\n",
      "[('before', 'IN')]\n",
      "[('.', '.')]\n"
     ]
    }
   ],
   "source": [
    "for w in Eng_tokens:\n",
    "    print(nltk.pos_tag([w]))"
   ]
  },
  {
   "cell_type": "code",
   "execution_count": 126,
   "id": "e58b6ea5",
   "metadata": {},
   "outputs": [
    {
     "name": "stderr",
     "output_type": "stream",
     "text": [
      "[nltk_data] Downloading package words to /home/yakkane/nltk_data...\n",
      "[nltk_data]   Unzipping corpora/words.zip.\n"
     ]
    },
    {
     "data": {
      "text/plain": [
       "True"
      ]
     },
     "execution_count": 126,
     "metadata": {},
     "output_type": "execute_result"
    }
   ],
   "source": [
    "################################## entity recognition ###########################################################\n",
    "nltk.download('words')"
   ]
  },
  {
   "cell_type": "code",
   "execution_count": 127,
   "id": "fb356f0c",
   "metadata": {},
   "outputs": [],
   "source": [
    "from nltk import ne_chunk"
   ]
  },
  {
   "cell_type": "code",
   "execution_count": 128,
   "id": "afd073d4",
   "metadata": {},
   "outputs": [],
   "source": [
    "tags = nltk.pos_tag(Eng_tokens)"
   ]
  },
  {
   "cell_type": "code",
   "execution_count": 129,
   "id": "77c33452",
   "metadata": {},
   "outputs": [],
   "source": [
    "chnuks = ne_chunk(tags)"
   ]
  },
  {
   "cell_type": "code",
   "execution_count": 131,
   "id": "f294d073",
   "metadata": {},
   "outputs": [
    {
     "name": "stdout",
     "output_type": "stream",
     "text": [
      "(S\n",
      "  Perhaps/RB\n",
      "  one/CD\n",
      "  of/IN\n",
      "  the/DT\n",
      "  most/RBS\n",
      "  significant/JJ\n",
      "  advances/NNS\n",
      "  made/VBN\n",
      "  by/IN\n",
      "  (PERSON Arabic/NNP)\n",
      "  mathematics/NNS\n",
      "  began/VBD\n",
      "  at/IN\n",
      "  this/DT\n",
      "  time/NN\n",
      "  with/IN\n",
      "  the/DT\n",
      "  work/NN\n",
      "  of/IN\n",
      "  al-Khwarizmi/JJ\n",
      "  ,/,\n",
      "  namelythe/JJ\n",
      "  beginnings/NNS\n",
      "  of/IN\n",
      "  algebra/NN\n",
      "  ./.\n",
      "  It/PRP\n",
      "  is/VBZ\n",
      "  important/JJ\n",
      "  to/TO\n",
      "  understand/VB\n",
      "  just/RB\n",
      "  how/WRB\n",
      "  significant/JJ\n",
      "  this/DT\n",
      "  new/JJ\n",
      "  idea/NN\n",
      "  was/VBD\n",
      "  ./.\n",
      "  It/PRP\n",
      "  was/VBD\n",
      "  a/DT\n",
      "  revolutionary/JJ\n",
      "  move/NN\n",
      "  away/RB\n",
      "  from/IN\n",
      "  the/DT\n",
      "  (GPE Greek/NNP)\n",
      "  concept/NN\n",
      "  of/IN\n",
      "  mathematics/NNS\n",
      "  which/WDT\n",
      "  was/VBD\n",
      "  essentially/RB\n",
      "  geometry/JJ\n",
      "  ./.\n",
      "  (PERSON Algebra/NNP)\n",
      "  was/VBD\n",
      "  a/DT\n",
      "  unifying/JJ\n",
      "  theory/NN\n",
      "  which/WDT\n",
      "  allowed/VBD\n",
      "  rational/JJ\n",
      "  numbers/NNS\n",
      "  ,/,\n",
      "  irrational/JJ\n",
      "  numbers/NNS\n",
      "  ,/,\n",
      "  geometrical/JJ\n",
      "  magnitudes/NNS\n",
      "  ,/,\n",
      "  etc./NN\n",
      "  ,/,\n",
      "  to/TO\n",
      "  all/DT\n",
      "  be/VB\n",
      "  treated/VBN\n",
      "  as/IN\n",
      "  ``/``\n",
      "  algebraic/JJ\n",
      "  objects/NNS\n",
      "  ''/''\n",
      "  ./.\n",
      "  It/PRP\n",
      "  gave/VBD\n",
      "  mathematics/NNS\n",
      "  a/DT\n",
      "  whole/JJ\n",
      "  new/JJ\n",
      "  development/NN\n",
      "  path/NN\n",
      "  so/RB\n",
      "  much/JJ\n",
      "  broader/JJR\n",
      "  in/IN\n",
      "  concept/NN\n",
      "  to/TO\n",
      "  that/DT\n",
      "  which/WDT\n",
      "  had/VBD\n",
      "  existed/VBN\n",
      "  before/IN\n",
      "  ,/,\n",
      "  and/CC\n",
      "  provided/VBD\n",
      "  a/DT\n",
      "  vehicle/NN\n",
      "  for/IN\n",
      "  future/JJ\n",
      "  development/NN\n",
      "  of/IN\n",
      "  the/DT\n",
      "  subject/NN\n",
      "  ./.\n",
      "  Another/DT\n",
      "  important/JJ\n",
      "  aspect/NN\n",
      "  of/IN\n",
      "  the/DT\n",
      "  introduction/NN\n",
      "  of/IN\n",
      "  algebraic/JJ\n",
      "  ideas/NNS\n",
      "  was/VBD\n",
      "  that/IN\n",
      "  it/PRP\n",
      "  allowed/VBD\n",
      "  mathematics/NNS\n",
      "  to/TO\n",
      "  be/VB\n",
      "  applied/VBN\n",
      "  to/TO\n",
      "  itself/PRP\n",
      "  in/IN\n",
      "  a/DT\n",
      "  way/NN\n",
      "  which/WDT\n",
      "  had/VBD\n",
      "  not/RB\n",
      "  happened/VBN\n",
      "  before/IN\n",
      "  ./.)\n"
     ]
    }
   ],
   "source": [
    "print(chnuks)"
   ]
  },
  {
   "cell_type": "code",
   "execution_count": 133,
   "id": "6f0cf2ca",
   "metadata": {},
   "outputs": [
    {
     "name": "stderr",
     "output_type": "stream",
     "text": [
      "[nltk_data] Error loading gsdnld: Package 'gsdnld' not found in index\n"
     ]
    },
    {
     "data": {
      "text/plain": [
       "False"
      ]
     },
     "execution_count": 133,
     "metadata": {},
     "output_type": "execute_result"
    }
   ],
   "source": [
    "################################# chunking #######################################################################\n"
   ]
  },
  {
   "cell_type": "code",
   "execution_count": 134,
   "id": "846c1126",
   "metadata": {},
   "outputs": [],
   "source": [
    "Grammar = \"NP: {<DT>?<JJ>*<NN>}\""
   ]
  },
  {
   "cell_type": "code",
   "execution_count": 135,
   "id": "3c0c001a",
   "metadata": {},
   "outputs": [],
   "source": [
    "chunk_parser = nltk.RegexpParser(Grammar)"
   ]
  },
  {
   "cell_type": "code",
   "execution_count": 136,
   "id": "210f2f88",
   "metadata": {},
   "outputs": [
    {
     "name": "stdout",
     "output_type": "stream",
     "text": [
      "Collecting ghostscript\n",
      "  Downloading ghostscript-0.7-py2.py3-none-any.whl (25 kB)\n",
      "Requirement already satisfied: setuptools>=38.6.0 in /home/yakkane/anaconda3/lib/python3.8/site-packages (from ghostscript) (52.0.0.post20210125)\n",
      "Installing collected packages: ghostscript\n",
      "Successfully installed ghostscript-0.7\n"
     ]
    }
   ],
   "source": [
    "!pip install ghostscript"
   ]
  },
  {
   "cell_type": "code",
   "execution_count": 138,
   "id": "0ab6de74",
   "metadata": {},
   "outputs": [],
   "source": [
    "t = chunk_parser.parse(tags)"
   ]
  },
  {
   "cell_type": "code",
   "execution_count": 140,
   "id": "feae8f62",
   "metadata": {},
   "outputs": [],
   "source": [
    "t.draw()"
   ]
  },
  {
   "cell_type": "code",
   "execution_count": null,
   "id": "87dd9c4a",
   "metadata": {},
   "outputs": [],
   "source": [
    "####################################\" end \" ################################################################\"\"\"\"\"\""
   ]
  }
 ],
 "metadata": {
  "kernelspec": {
   "display_name": "Python 3",
   "language": "python",
   "name": "python3"
  },
  "language_info": {
   "codemirror_mode": {
    "name": "ipython",
    "version": 3
   },
   "file_extension": ".py",
   "mimetype": "text/x-python",
   "name": "python",
   "nbconvert_exporter": "python",
   "pygments_lexer": "ipython3",
   "version": "3.8.8"
  }
 },
 "nbformat": 4,
 "nbformat_minor": 5
}
